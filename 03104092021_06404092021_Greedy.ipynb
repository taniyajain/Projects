{
  "nbformat": 4,
  "nbformat_minor": 0,
  "metadata": {
    "colab": {
      "provenance": []
    },
    "kernelspec": {
      "name": "python3",
      "display_name": "Python 3"
    },
    "language_info": {
      "name": "python"
    },
    "gpuClass": "standard",
    "accelerator": "GPU"
  },
  "cells": [
    {
      "cell_type": "markdown",
      "source": [
        "#<center>Project on Design and Analysis of Algorithms</center>\n",
        "\n",
        "#  <center>Title: Developing Ensemble Model Using Greedy Approach</center>\n",
        "## <center>by Mehak Aggarwal(03104092021), Taniya Jain(06404092021)</center>"
      ],
      "metadata": {
        "id": "tQJ1-ZvE7t1s"
      }
    },
    {
      "cell_type": "markdown",
      "source": [
        "### Importing libraries"
      ],
      "metadata": {
        "id": "u_jslYAk76Vv"
      }
    },
    {
      "cell_type": "code",
      "execution_count": null,
      "metadata": {
        "id": "hLT2iNZmJhFu"
      },
      "outputs": [],
      "source": [
        "import numpy as np\n",
        "import matplotlib.pyplot as plt\n",
        "import pandas as pd\n",
        "from sklearn.tree import DecisionTreeClassifier\n",
        "from sklearn.linear_model import LogisticRegression\n",
        "from sklearn.svm import SVC\n",
        "from sklearn.neighbors import KNeighborsClassifier\n",
        "from sklearn.naive_bayes import GaussianNB\n",
        "from sklearn.ensemble import VotingClassifier\n",
        "from sklearn import model_selection\n",
        "from sklearn.metrics import confusion_matrix\n",
        "from sklearn.metrics import plot_confusion_matrix\n",
        "\n",
        "from sklearn. preprocessing import StandardScaler\n",
        "from sklearn.model_selection import train_test_split"
      ]
    },
    {
      "cell_type": "markdown",
      "source": [
        "### Loading Dataset"
      ],
      "metadata": {
        "id": "lH3T_RBM8F_M"
      }
    },
    {
      "cell_type": "code",
      "source": [
        "from google.colab import drive\n",
        "drive.mount('/content/drive',force_remount=True)"
      ],
      "metadata": {
        "id": "w3rsMufhJlcf",
        "colab": {
          "base_uri": "https://localhost:8080/"
        },
        "outputId": "0aecc231-88e8-4519-acad-bd7d1e9979b1"
      },
      "execution_count": null,
      "outputs": [
        {
          "output_type": "stream",
          "name": "stdout",
          "text": [
            "Mounted at /content/drive\n"
          ]
        }
      ]
    },
    {
      "cell_type": "code",
      "source": [
        "from google.colab import files\n",
        "f=files.upload()\n"
      ],
      "metadata": {
        "colab": {
          "base_uri": "https://localhost:8080/",
          "height": 74
        },
        "id": "6RktYob1J0kB",
        "outputId": "320de880-7ea5-4d16-965d-14b7c9937405"
      },
      "execution_count": null,
      "outputs": [
        {
          "output_type": "display_data",
          "data": {
            "text/plain": [
              "<IPython.core.display.HTML object>"
            ],
            "text/html": [
              "\n",
              "     <input type=\"file\" id=\"files-67951e0b-9d79-44af-b81c-38c5441b43b2\" name=\"files[]\" multiple disabled\n",
              "        style=\"border:none\" />\n",
              "     <output id=\"result-67951e0b-9d79-44af-b81c-38c5441b43b2\">\n",
              "      Upload widget is only available when the cell has been executed in the\n",
              "      current browser session. Please rerun this cell to enable.\n",
              "      </output>\n",
              "      <script>// Copyright 2017 Google LLC\n",
              "//\n",
              "// Licensed under the Apache License, Version 2.0 (the \"License\");\n",
              "// you may not use this file except in compliance with the License.\n",
              "// You may obtain a copy of the License at\n",
              "//\n",
              "//      http://www.apache.org/licenses/LICENSE-2.0\n",
              "//\n",
              "// Unless required by applicable law or agreed to in writing, software\n",
              "// distributed under the License is distributed on an \"AS IS\" BASIS,\n",
              "// WITHOUT WARRANTIES OR CONDITIONS OF ANY KIND, either express or implied.\n",
              "// See the License for the specific language governing permissions and\n",
              "// limitations under the License.\n",
              "\n",
              "/**\n",
              " * @fileoverview Helpers for google.colab Python module.\n",
              " */\n",
              "(function(scope) {\n",
              "function span(text, styleAttributes = {}) {\n",
              "  const element = document.createElement('span');\n",
              "  element.textContent = text;\n",
              "  for (const key of Object.keys(styleAttributes)) {\n",
              "    element.style[key] = styleAttributes[key];\n",
              "  }\n",
              "  return element;\n",
              "}\n",
              "\n",
              "// Max number of bytes which will be uploaded at a time.\n",
              "const MAX_PAYLOAD_SIZE = 100 * 1024;\n",
              "\n",
              "function _uploadFiles(inputId, outputId) {\n",
              "  const steps = uploadFilesStep(inputId, outputId);\n",
              "  const outputElement = document.getElementById(outputId);\n",
              "  // Cache steps on the outputElement to make it available for the next call\n",
              "  // to uploadFilesContinue from Python.\n",
              "  outputElement.steps = steps;\n",
              "\n",
              "  return _uploadFilesContinue(outputId);\n",
              "}\n",
              "\n",
              "// This is roughly an async generator (not supported in the browser yet),\n",
              "// where there are multiple asynchronous steps and the Python side is going\n",
              "// to poll for completion of each step.\n",
              "// This uses a Promise to block the python side on completion of each step,\n",
              "// then passes the result of the previous step as the input to the next step.\n",
              "function _uploadFilesContinue(outputId) {\n",
              "  const outputElement = document.getElementById(outputId);\n",
              "  const steps = outputElement.steps;\n",
              "\n",
              "  const next = steps.next(outputElement.lastPromiseValue);\n",
              "  return Promise.resolve(next.value.promise).then((value) => {\n",
              "    // Cache the last promise value to make it available to the next\n",
              "    // step of the generator.\n",
              "    outputElement.lastPromiseValue = value;\n",
              "    return next.value.response;\n",
              "  });\n",
              "}\n",
              "\n",
              "/**\n",
              " * Generator function which is called between each async step of the upload\n",
              " * process.\n",
              " * @param {string} inputId Element ID of the input file picker element.\n",
              " * @param {string} outputId Element ID of the output display.\n",
              " * @return {!Iterable<!Object>} Iterable of next steps.\n",
              " */\n",
              "function* uploadFilesStep(inputId, outputId) {\n",
              "  const inputElement = document.getElementById(inputId);\n",
              "  inputElement.disabled = false;\n",
              "\n",
              "  const outputElement = document.getElementById(outputId);\n",
              "  outputElement.innerHTML = '';\n",
              "\n",
              "  const pickedPromise = new Promise((resolve) => {\n",
              "    inputElement.addEventListener('change', (e) => {\n",
              "      resolve(e.target.files);\n",
              "    });\n",
              "  });\n",
              "\n",
              "  const cancel = document.createElement('button');\n",
              "  inputElement.parentElement.appendChild(cancel);\n",
              "  cancel.textContent = 'Cancel upload';\n",
              "  const cancelPromise = new Promise((resolve) => {\n",
              "    cancel.onclick = () => {\n",
              "      resolve(null);\n",
              "    };\n",
              "  });\n",
              "\n",
              "  // Wait for the user to pick the files.\n",
              "  const files = yield {\n",
              "    promise: Promise.race([pickedPromise, cancelPromise]),\n",
              "    response: {\n",
              "      action: 'starting',\n",
              "    }\n",
              "  };\n",
              "\n",
              "  cancel.remove();\n",
              "\n",
              "  // Disable the input element since further picks are not allowed.\n",
              "  inputElement.disabled = true;\n",
              "\n",
              "  if (!files) {\n",
              "    return {\n",
              "      response: {\n",
              "        action: 'complete',\n",
              "      }\n",
              "    };\n",
              "  }\n",
              "\n",
              "  for (const file of files) {\n",
              "    const li = document.createElement('li');\n",
              "    li.append(span(file.name, {fontWeight: 'bold'}));\n",
              "    li.append(span(\n",
              "        `(${file.type || 'n/a'}) - ${file.size} bytes, ` +\n",
              "        `last modified: ${\n",
              "            file.lastModifiedDate ? file.lastModifiedDate.toLocaleDateString() :\n",
              "                                    'n/a'} - `));\n",
              "    const percent = span('0% done');\n",
              "    li.appendChild(percent);\n",
              "\n",
              "    outputElement.appendChild(li);\n",
              "\n",
              "    const fileDataPromise = new Promise((resolve) => {\n",
              "      const reader = new FileReader();\n",
              "      reader.onload = (e) => {\n",
              "        resolve(e.target.result);\n",
              "      };\n",
              "      reader.readAsArrayBuffer(file);\n",
              "    });\n",
              "    // Wait for the data to be ready.\n",
              "    let fileData = yield {\n",
              "      promise: fileDataPromise,\n",
              "      response: {\n",
              "        action: 'continue',\n",
              "      }\n",
              "    };\n",
              "\n",
              "    // Use a chunked sending to avoid message size limits. See b/62115660.\n",
              "    let position = 0;\n",
              "    do {\n",
              "      const length = Math.min(fileData.byteLength - position, MAX_PAYLOAD_SIZE);\n",
              "      const chunk = new Uint8Array(fileData, position, length);\n",
              "      position += length;\n",
              "\n",
              "      const base64 = btoa(String.fromCharCode.apply(null, chunk));\n",
              "      yield {\n",
              "        response: {\n",
              "          action: 'append',\n",
              "          file: file.name,\n",
              "          data: base64,\n",
              "        },\n",
              "      };\n",
              "\n",
              "      let percentDone = fileData.byteLength === 0 ?\n",
              "          100 :\n",
              "          Math.round((position / fileData.byteLength) * 100);\n",
              "      percent.textContent = `${percentDone}% done`;\n",
              "\n",
              "    } while (position < fileData.byteLength);\n",
              "  }\n",
              "\n",
              "  // All done.\n",
              "  yield {\n",
              "    response: {\n",
              "      action: 'complete',\n",
              "    }\n",
              "  };\n",
              "}\n",
              "\n",
              "scope.google = scope.google || {};\n",
              "scope.google.colab = scope.google.colab || {};\n",
              "scope.google.colab._files = {\n",
              "  _uploadFiles,\n",
              "  _uploadFilesContinue,\n",
              "};\n",
              "})(self);\n",
              "</script> "
            ]
          },
          "metadata": {}
        },
        {
          "output_type": "stream",
          "name": "stdout",
          "text": [
            "Saving collegePlaceOriginal.csv to collegePlaceOriginal.csv\n"
          ]
        }
      ]
    },
    {
      "cell_type": "code",
      "source": [
        "#Reading the dataset\n",
        "dataset = pd.read_csv('collegePlaceOriginal.csv')"
      ],
      "metadata": {
        "id": "cLXATdKKKFYz"
      },
      "execution_count": null,
      "outputs": []
    },
    {
      "cell_type": "code",
      "source": [
        "dataset.describe()"
      ],
      "metadata": {
        "colab": {
          "base_uri": "https://localhost:8080/",
          "height": 300
        },
        "id": "2eIImecxhCgs",
        "outputId": "19422755-f268-4e28-8e7f-b5d04c0c53cb"
      },
      "execution_count": null,
      "outputs": [
        {
          "output_type": "execute_result",
          "data": {
            "text/plain": [
              "               Age  Internships         CGPA       Hostel  HistoryOfBacklogs  \\\n",
              "count  2966.000000  2966.000000  2966.000000  2966.000000        2966.000000   \n",
              "mean     21.485840     0.703641     7.073837     0.269049           0.192178   \n",
              "std       1.324933     0.740197     0.967748     0.443540           0.394079   \n",
              "min      19.000000     0.000000     5.000000     0.000000           0.000000   \n",
              "25%      21.000000     0.000000     6.000000     0.000000           0.000000   \n",
              "50%      21.000000     1.000000     7.000000     0.000000           0.000000   \n",
              "75%      22.000000     1.000000     8.000000     1.000000           0.000000   \n",
              "max      30.000000     3.000000     9.000000     1.000000           1.000000   \n",
              "\n",
              "       PlacedOrNot  \n",
              "count  2966.000000  \n",
              "mean      0.552596  \n",
              "std       0.497310  \n",
              "min       0.000000  \n",
              "25%       0.000000  \n",
              "50%       1.000000  \n",
              "75%       1.000000  \n",
              "max       1.000000  "
            ],
            "text/html": [
              "\n",
              "  <div id=\"df-96ef2fc5-feb8-4a9c-8ea5-1c5aa385f14a\">\n",
              "    <div class=\"colab-df-container\">\n",
              "      <div>\n",
              "<style scoped>\n",
              "    .dataframe tbody tr th:only-of-type {\n",
              "        vertical-align: middle;\n",
              "    }\n",
              "\n",
              "    .dataframe tbody tr th {\n",
              "        vertical-align: top;\n",
              "    }\n",
              "\n",
              "    .dataframe thead th {\n",
              "        text-align: right;\n",
              "    }\n",
              "</style>\n",
              "<table border=\"1\" class=\"dataframe\">\n",
              "  <thead>\n",
              "    <tr style=\"text-align: right;\">\n",
              "      <th></th>\n",
              "      <th>Age</th>\n",
              "      <th>Internships</th>\n",
              "      <th>CGPA</th>\n",
              "      <th>Hostel</th>\n",
              "      <th>HistoryOfBacklogs</th>\n",
              "      <th>PlacedOrNot</th>\n",
              "    </tr>\n",
              "  </thead>\n",
              "  <tbody>\n",
              "    <tr>\n",
              "      <th>count</th>\n",
              "      <td>2966.000000</td>\n",
              "      <td>2966.000000</td>\n",
              "      <td>2966.000000</td>\n",
              "      <td>2966.000000</td>\n",
              "      <td>2966.000000</td>\n",
              "      <td>2966.000000</td>\n",
              "    </tr>\n",
              "    <tr>\n",
              "      <th>mean</th>\n",
              "      <td>21.485840</td>\n",
              "      <td>0.703641</td>\n",
              "      <td>7.073837</td>\n",
              "      <td>0.269049</td>\n",
              "      <td>0.192178</td>\n",
              "      <td>0.552596</td>\n",
              "    </tr>\n",
              "    <tr>\n",
              "      <th>std</th>\n",
              "      <td>1.324933</td>\n",
              "      <td>0.740197</td>\n",
              "      <td>0.967748</td>\n",
              "      <td>0.443540</td>\n",
              "      <td>0.394079</td>\n",
              "      <td>0.497310</td>\n",
              "    </tr>\n",
              "    <tr>\n",
              "      <th>min</th>\n",
              "      <td>19.000000</td>\n",
              "      <td>0.000000</td>\n",
              "      <td>5.000000</td>\n",
              "      <td>0.000000</td>\n",
              "      <td>0.000000</td>\n",
              "      <td>0.000000</td>\n",
              "    </tr>\n",
              "    <tr>\n",
              "      <th>25%</th>\n",
              "      <td>21.000000</td>\n",
              "      <td>0.000000</td>\n",
              "      <td>6.000000</td>\n",
              "      <td>0.000000</td>\n",
              "      <td>0.000000</td>\n",
              "      <td>0.000000</td>\n",
              "    </tr>\n",
              "    <tr>\n",
              "      <th>50%</th>\n",
              "      <td>21.000000</td>\n",
              "      <td>1.000000</td>\n",
              "      <td>7.000000</td>\n",
              "      <td>0.000000</td>\n",
              "      <td>0.000000</td>\n",
              "      <td>1.000000</td>\n",
              "    </tr>\n",
              "    <tr>\n",
              "      <th>75%</th>\n",
              "      <td>22.000000</td>\n",
              "      <td>1.000000</td>\n",
              "      <td>8.000000</td>\n",
              "      <td>1.000000</td>\n",
              "      <td>0.000000</td>\n",
              "      <td>1.000000</td>\n",
              "    </tr>\n",
              "    <tr>\n",
              "      <th>max</th>\n",
              "      <td>30.000000</td>\n",
              "      <td>3.000000</td>\n",
              "      <td>9.000000</td>\n",
              "      <td>1.000000</td>\n",
              "      <td>1.000000</td>\n",
              "      <td>1.000000</td>\n",
              "    </tr>\n",
              "  </tbody>\n",
              "</table>\n",
              "</div>\n",
              "      <button class=\"colab-df-convert\" onclick=\"convertToInteractive('df-96ef2fc5-feb8-4a9c-8ea5-1c5aa385f14a')\"\n",
              "              title=\"Convert this dataframe to an interactive table.\"\n",
              "              style=\"display:none;\">\n",
              "        \n",
              "  <svg xmlns=\"http://www.w3.org/2000/svg\" height=\"24px\"viewBox=\"0 0 24 24\"\n",
              "       width=\"24px\">\n",
              "    <path d=\"M0 0h24v24H0V0z\" fill=\"none\"/>\n",
              "    <path d=\"M18.56 5.44l.94 2.06.94-2.06 2.06-.94-2.06-.94-.94-2.06-.94 2.06-2.06.94zm-11 1L8.5 8.5l.94-2.06 2.06-.94-2.06-.94L8.5 2.5l-.94 2.06-2.06.94zm10 10l.94 2.06.94-2.06 2.06-.94-2.06-.94-.94-2.06-.94 2.06-2.06.94z\"/><path d=\"M17.41 7.96l-1.37-1.37c-.4-.4-.92-.59-1.43-.59-.52 0-1.04.2-1.43.59L10.3 9.45l-7.72 7.72c-.78.78-.78 2.05 0 2.83L4 21.41c.39.39.9.59 1.41.59.51 0 1.02-.2 1.41-.59l7.78-7.78 2.81-2.81c.8-.78.8-2.07 0-2.86zM5.41 20L4 18.59l7.72-7.72 1.47 1.35L5.41 20z\"/>\n",
              "  </svg>\n",
              "      </button>\n",
              "      \n",
              "  <style>\n",
              "    .colab-df-container {\n",
              "      display:flex;\n",
              "      flex-wrap:wrap;\n",
              "      gap: 12px;\n",
              "    }\n",
              "\n",
              "    .colab-df-convert {\n",
              "      background-color: #E8F0FE;\n",
              "      border: none;\n",
              "      border-radius: 50%;\n",
              "      cursor: pointer;\n",
              "      display: none;\n",
              "      fill: #1967D2;\n",
              "      height: 32px;\n",
              "      padding: 0 0 0 0;\n",
              "      width: 32px;\n",
              "    }\n",
              "\n",
              "    .colab-df-convert:hover {\n",
              "      background-color: #E2EBFA;\n",
              "      box-shadow: 0px 1px 2px rgba(60, 64, 67, 0.3), 0px 1px 3px 1px rgba(60, 64, 67, 0.15);\n",
              "      fill: #174EA6;\n",
              "    }\n",
              "\n",
              "    [theme=dark] .colab-df-convert {\n",
              "      background-color: #3B4455;\n",
              "      fill: #D2E3FC;\n",
              "    }\n",
              "\n",
              "    [theme=dark] .colab-df-convert:hover {\n",
              "      background-color: #434B5C;\n",
              "      box-shadow: 0px 1px 3px 1px rgba(0, 0, 0, 0.15);\n",
              "      filter: drop-shadow(0px 1px 2px rgba(0, 0, 0, 0.3));\n",
              "      fill: #FFFFFF;\n",
              "    }\n",
              "  </style>\n",
              "\n",
              "      <script>\n",
              "        const buttonEl =\n",
              "          document.querySelector('#df-96ef2fc5-feb8-4a9c-8ea5-1c5aa385f14a button.colab-df-convert');\n",
              "        buttonEl.style.display =\n",
              "          google.colab.kernel.accessAllowed ? 'block' : 'none';\n",
              "\n",
              "        async function convertToInteractive(key) {\n",
              "          const element = document.querySelector('#df-96ef2fc5-feb8-4a9c-8ea5-1c5aa385f14a');\n",
              "          const dataTable =\n",
              "            await google.colab.kernel.invokeFunction('convertToInteractive',\n",
              "                                                     [key], {});\n",
              "          if (!dataTable) return;\n",
              "\n",
              "          const docLinkHtml = 'Like what you see? Visit the ' +\n",
              "            '<a target=\"_blank\" href=https://colab.research.google.com/notebooks/data_table.ipynb>data table notebook</a>'\n",
              "            + ' to learn more about interactive tables.';\n",
              "          element.innerHTML = '';\n",
              "          dataTable['output_type'] = 'display_data';\n",
              "          await google.colab.output.renderOutput(dataTable, element);\n",
              "          const docLink = document.createElement('div');\n",
              "          docLink.innerHTML = docLinkHtml;\n",
              "          element.appendChild(docLink);\n",
              "        }\n",
              "      </script>\n",
              "    </div>\n",
              "  </div>\n",
              "  "
            ]
          },
          "metadata": {},
          "execution_count": 5
        }
      ]
    },
    {
      "cell_type": "code",
      "source": [
        "dataset.head()"
      ],
      "metadata": {
        "colab": {
          "base_uri": "https://localhost:8080/",
          "height": 206
        },
        "id": "PaQcvSh7jk1F",
        "outputId": "fa5855b4-d518-41a8-bd22-3a0f4a1d173e"
      },
      "execution_count": null,
      "outputs": [
        {
          "output_type": "execute_result",
          "data": {
            "text/plain": [
              "   Age  Gender                         Stream  Internships  CGPA  Hostel  \\\n",
              "0   22    Male  Electronics And Communication            1     8       1   \n",
              "1   21  Female               Computer Science            0     7       1   \n",
              "2   22  Female         Information Technology            1     6       0   \n",
              "3   21    Male         Information Technology            0     8       0   \n",
              "4   22    Male                     Mechanical            0     8       1   \n",
              "\n",
              "   HistoryOfBacklogs  PlacedOrNot  \n",
              "0                  1            1  \n",
              "1                  1            1  \n",
              "2                  0            1  \n",
              "3                  1            1  \n",
              "4                  0            1  "
            ],
            "text/html": [
              "\n",
              "  <div id=\"df-6344a3dd-46b1-48da-9e32-1f6dcab8aa68\">\n",
              "    <div class=\"colab-df-container\">\n",
              "      <div>\n",
              "<style scoped>\n",
              "    .dataframe tbody tr th:only-of-type {\n",
              "        vertical-align: middle;\n",
              "    }\n",
              "\n",
              "    .dataframe tbody tr th {\n",
              "        vertical-align: top;\n",
              "    }\n",
              "\n",
              "    .dataframe thead th {\n",
              "        text-align: right;\n",
              "    }\n",
              "</style>\n",
              "<table border=\"1\" class=\"dataframe\">\n",
              "  <thead>\n",
              "    <tr style=\"text-align: right;\">\n",
              "      <th></th>\n",
              "      <th>Age</th>\n",
              "      <th>Gender</th>\n",
              "      <th>Stream</th>\n",
              "      <th>Internships</th>\n",
              "      <th>CGPA</th>\n",
              "      <th>Hostel</th>\n",
              "      <th>HistoryOfBacklogs</th>\n",
              "      <th>PlacedOrNot</th>\n",
              "    </tr>\n",
              "  </thead>\n",
              "  <tbody>\n",
              "    <tr>\n",
              "      <th>0</th>\n",
              "      <td>22</td>\n",
              "      <td>Male</td>\n",
              "      <td>Electronics And Communication</td>\n",
              "      <td>1</td>\n",
              "      <td>8</td>\n",
              "      <td>1</td>\n",
              "      <td>1</td>\n",
              "      <td>1</td>\n",
              "    </tr>\n",
              "    <tr>\n",
              "      <th>1</th>\n",
              "      <td>21</td>\n",
              "      <td>Female</td>\n",
              "      <td>Computer Science</td>\n",
              "      <td>0</td>\n",
              "      <td>7</td>\n",
              "      <td>1</td>\n",
              "      <td>1</td>\n",
              "      <td>1</td>\n",
              "    </tr>\n",
              "    <tr>\n",
              "      <th>2</th>\n",
              "      <td>22</td>\n",
              "      <td>Female</td>\n",
              "      <td>Information Technology</td>\n",
              "      <td>1</td>\n",
              "      <td>6</td>\n",
              "      <td>0</td>\n",
              "      <td>0</td>\n",
              "      <td>1</td>\n",
              "    </tr>\n",
              "    <tr>\n",
              "      <th>3</th>\n",
              "      <td>21</td>\n",
              "      <td>Male</td>\n",
              "      <td>Information Technology</td>\n",
              "      <td>0</td>\n",
              "      <td>8</td>\n",
              "      <td>0</td>\n",
              "      <td>1</td>\n",
              "      <td>1</td>\n",
              "    </tr>\n",
              "    <tr>\n",
              "      <th>4</th>\n",
              "      <td>22</td>\n",
              "      <td>Male</td>\n",
              "      <td>Mechanical</td>\n",
              "      <td>0</td>\n",
              "      <td>8</td>\n",
              "      <td>1</td>\n",
              "      <td>0</td>\n",
              "      <td>1</td>\n",
              "    </tr>\n",
              "  </tbody>\n",
              "</table>\n",
              "</div>\n",
              "      <button class=\"colab-df-convert\" onclick=\"convertToInteractive('df-6344a3dd-46b1-48da-9e32-1f6dcab8aa68')\"\n",
              "              title=\"Convert this dataframe to an interactive table.\"\n",
              "              style=\"display:none;\">\n",
              "        \n",
              "  <svg xmlns=\"http://www.w3.org/2000/svg\" height=\"24px\"viewBox=\"0 0 24 24\"\n",
              "       width=\"24px\">\n",
              "    <path d=\"M0 0h24v24H0V0z\" fill=\"none\"/>\n",
              "    <path d=\"M18.56 5.44l.94 2.06.94-2.06 2.06-.94-2.06-.94-.94-2.06-.94 2.06-2.06.94zm-11 1L8.5 8.5l.94-2.06 2.06-.94-2.06-.94L8.5 2.5l-.94 2.06-2.06.94zm10 10l.94 2.06.94-2.06 2.06-.94-2.06-.94-.94-2.06-.94 2.06-2.06.94z\"/><path d=\"M17.41 7.96l-1.37-1.37c-.4-.4-.92-.59-1.43-.59-.52 0-1.04.2-1.43.59L10.3 9.45l-7.72 7.72c-.78.78-.78 2.05 0 2.83L4 21.41c.39.39.9.59 1.41.59.51 0 1.02-.2 1.41-.59l7.78-7.78 2.81-2.81c.8-.78.8-2.07 0-2.86zM5.41 20L4 18.59l7.72-7.72 1.47 1.35L5.41 20z\"/>\n",
              "  </svg>\n",
              "      </button>\n",
              "      \n",
              "  <style>\n",
              "    .colab-df-container {\n",
              "      display:flex;\n",
              "      flex-wrap:wrap;\n",
              "      gap: 12px;\n",
              "    }\n",
              "\n",
              "    .colab-df-convert {\n",
              "      background-color: #E8F0FE;\n",
              "      border: none;\n",
              "      border-radius: 50%;\n",
              "      cursor: pointer;\n",
              "      display: none;\n",
              "      fill: #1967D2;\n",
              "      height: 32px;\n",
              "      padding: 0 0 0 0;\n",
              "      width: 32px;\n",
              "    }\n",
              "\n",
              "    .colab-df-convert:hover {\n",
              "      background-color: #E2EBFA;\n",
              "      box-shadow: 0px 1px 2px rgba(60, 64, 67, 0.3), 0px 1px 3px 1px rgba(60, 64, 67, 0.15);\n",
              "      fill: #174EA6;\n",
              "    }\n",
              "\n",
              "    [theme=dark] .colab-df-convert {\n",
              "      background-color: #3B4455;\n",
              "      fill: #D2E3FC;\n",
              "    }\n",
              "\n",
              "    [theme=dark] .colab-df-convert:hover {\n",
              "      background-color: #434B5C;\n",
              "      box-shadow: 0px 1px 3px 1px rgba(0, 0, 0, 0.15);\n",
              "      filter: drop-shadow(0px 1px 2px rgba(0, 0, 0, 0.3));\n",
              "      fill: #FFFFFF;\n",
              "    }\n",
              "  </style>\n",
              "\n",
              "      <script>\n",
              "        const buttonEl =\n",
              "          document.querySelector('#df-6344a3dd-46b1-48da-9e32-1f6dcab8aa68 button.colab-df-convert');\n",
              "        buttonEl.style.display =\n",
              "          google.colab.kernel.accessAllowed ? 'block' : 'none';\n",
              "\n",
              "        async function convertToInteractive(key) {\n",
              "          const element = document.querySelector('#df-6344a3dd-46b1-48da-9e32-1f6dcab8aa68');\n",
              "          const dataTable =\n",
              "            await google.colab.kernel.invokeFunction('convertToInteractive',\n",
              "                                                     [key], {});\n",
              "          if (!dataTable) return;\n",
              "\n",
              "          const docLinkHtml = 'Like what you see? Visit the ' +\n",
              "            '<a target=\"_blank\" href=https://colab.research.google.com/notebooks/data_table.ipynb>data table notebook</a>'\n",
              "            + ' to learn more about interactive tables.';\n",
              "          element.innerHTML = '';\n",
              "          dataTable['output_type'] = 'display_data';\n",
              "          await google.colab.output.renderOutput(dataTable, element);\n",
              "          const docLink = document.createElement('div');\n",
              "          docLink.innerHTML = docLinkHtml;\n",
              "          element.appendChild(docLink);\n",
              "        }\n",
              "      </script>\n",
              "    </div>\n",
              "  </div>\n",
              "  "
            ]
          },
          "metadata": {},
          "execution_count": 6
        }
      ]
    },
    {
      "cell_type": "markdown",
      "source": [
        "### Splitting Independent and Dependent variables"
      ],
      "metadata": {
        "id": "fspqWiRC8NxW"
      }
    },
    {
      "cell_type": "code",
      "source": [
        "X = dataset.iloc[:, 0:7].values\n",
        "y = dataset.iloc[:, 7].values"
      ],
      "metadata": {
        "id": "jKyKXB-sjabY"
      },
      "execution_count": null,
      "outputs": []
    },
    {
      "cell_type": "code",
      "source": [
        "print(\"X:\",X)\n",
        "print()\n",
        "print(\"y:\",y)"
      ],
      "metadata": {
        "colab": {
          "base_uri": "https://localhost:8080/"
        },
        "id": "h1ffiESlH44j",
        "outputId": "0baf9695-83f7-4fb6-bdfa-fab7772176b2"
      },
      "execution_count": null,
      "outputs": [
        {
          "output_type": "stream",
          "name": "stdout",
          "text": [
            "X: [[22 'Male' 'Electronics And Communication' ... 8 1 1]\n",
            " [21 'Female' 'Computer Science' ... 7 1 1]\n",
            " [22 'Female' 'Information Technology' ... 6 0 0]\n",
            " ...\n",
            " [22 'Male' 'Information Technology' ... 7 0 0]\n",
            " [22 'Male' 'Computer Science' ... 7 0 0]\n",
            " [23 'Male' 'Civil' ... 8 0 0]]\n",
            "\n",
            "y: [1 1 1 ... 0 0 1]\n"
          ]
        }
      ]
    },
    {
      "cell_type": "markdown",
      "source": [
        "### Preprocessing : OneHotEncoder"
      ],
      "metadata": {
        "id": "2QFrD64A8V48"
      }
    },
    {
      "cell_type": "code",
      "source": [
        "from sklearn.preprocessing import OneHotEncoder\n",
        "from sklearn.compose import ColumnTransformer\n",
        "t = ColumnTransformer([(\"placed\", OneHotEncoder(), [1,2])], remainder = 'passthrough')\n",
        "X = t.fit_transform(X)"
      ],
      "metadata": {
        "id": "3huy_k_NKNAW"
      },
      "execution_count": null,
      "outputs": []
    },
    {
      "cell_type": "code",
      "source": [
        "print(X)"
      ],
      "metadata": {
        "colab": {
          "base_uri": "https://localhost:8080/"
        },
        "id": "ZHvX4kE7jpzZ",
        "outputId": "e8760b20-7d9e-495a-e02c-d39336fd5165"
      },
      "execution_count": null,
      "outputs": [
        {
          "output_type": "stream",
          "name": "stdout",
          "text": [
            "[[0.0 1.0 0.0 ... 8 1 1]\n",
            " [1.0 0.0 0.0 ... 7 1 1]\n",
            " [1.0 0.0 0.0 ... 6 0 0]\n",
            " ...\n",
            " [0.0 1.0 0.0 ... 7 0 0]\n",
            " [0.0 1.0 0.0 ... 7 0 0]\n",
            " [0.0 1.0 1.0 ... 8 0 0]]\n"
          ]
        }
      ]
    },
    {
      "cell_type": "markdown",
      "source": [
        "### Splitting dataset into training and testing"
      ],
      "metadata": {
        "id": "EzvLSOHw8dCt"
      }
    },
    {
      "cell_type": "code",
      "source": [
        "X_train, X_test, y_train, y_test = train_test_split(X, y, test_size = 0.15, random_state = 0, stratify = y)"
      ],
      "metadata": {
        "id": "d_rGabq_RNVt"
      },
      "execution_count": null,
      "outputs": []
    },
    {
      "cell_type": "code",
      "source": [
        "X_train"
      ],
      "metadata": {
        "colab": {
          "base_uri": "https://localhost:8080/"
        },
        "id": "-MKlB9C7j5wQ",
        "outputId": "3f241095-17af-4aad-baa8-2ae67a1d24ca"
      },
      "execution_count": null,
      "outputs": [
        {
          "output_type": "execute_result",
          "data": {
            "text/plain": [
              "array([[1.0, 0.0, 0.0, ..., 7, 0, 1],\n",
              "       [0.0, 1.0, 0.0, ..., 7, 0, 0],\n",
              "       [0.0, 1.0, 0.0, ..., 8, 0, 0],\n",
              "       ...,\n",
              "       [0.0, 1.0, 0.0, ..., 6, 0, 0],\n",
              "       [1.0, 0.0, 0.0, ..., 8, 1, 1],\n",
              "       [1.0, 0.0, 0.0, ..., 7, 0, 0]], dtype=object)"
            ]
          },
          "metadata": {},
          "execution_count": 12
        }
      ]
    },
    {
      "cell_type": "markdown",
      "source": [
        "#Classifiers\n",
        "- prediction\n",
        "- performance measures"
      ],
      "metadata": {
        "id": "Z1tCZJJptuwY"
      }
    },
    {
      "cell_type": "code",
      "source": [
        "model1 = LogisticRegression(solver='lbfgs', max_iter=1000)\n",
        "model2 = DecisionTreeClassifier(max_depth = 2)\n",
        "model3 = SVC()\n",
        "model4 = KNeighborsClassifier(n_neighbors = 5, metric = 'minkowski', p = 2)\n",
        "model5 = GaussianNB()"
      ],
      "metadata": {
        "id": "SR5mN2KvRV6y"
      },
      "execution_count": null,
      "outputs": []
    },
    {
      "cell_type": "code",
      "source": [
        "model1.fit(X_train, y_train)\n",
        "model2.fit(X_train, y_train)\n",
        "model3.fit(X_train, y_train)\n",
        "model4.fit(X_train, y_train)\n",
        "model5.fit(X_train, y_train)"
      ],
      "metadata": {
        "colab": {
          "base_uri": "https://localhost:8080/"
        },
        "id": "UJEnRerTRc6w",
        "outputId": "906d7076-c7e2-4f7c-8c2c-5b5ca1dd2525"
      },
      "execution_count": null,
      "outputs": [
        {
          "output_type": "execute_result",
          "data": {
            "text/plain": [
              "GaussianNB()"
            ]
          },
          "metadata": {},
          "execution_count": 14
        }
      ]
    },
    {
      "cell_type": "code",
      "source": [
        "y_pred1 = model1.predict(X_test)\n",
        "y_pred2 = model2.predict(X_test)\n",
        "y_pred3 = model3.predict(X_test)\n",
        "y_pred4 = model4.predict(X_test)\n",
        "y_pred5 = model5.predict(X_test)"
      ],
      "metadata": {
        "id": "51lfVnybRiqy"
      },
      "execution_count": null,
      "outputs": []
    },
    {
      "cell_type": "code",
      "source": [
        "from sklearn.metrics import accuracy_score\n",
        "from sklearn.metrics import precision_score\n",
        "from sklearn.metrics import recall_score\n",
        "from sklearn.metrics import f1_score"
      ],
      "metadata": {
        "id": "LUXq459urqx1"
      },
      "execution_count": null,
      "outputs": []
    },
    {
      "cell_type": "code",
      "source": [
        "cm_LogisticRegression = confusion_matrix(y_test, y_pred1)\n",
        "cm_DecisionTree = confusion_matrix(y_test, y_pred2)\n",
        "cm_SupportVectorClass = confusion_matrix(y_test, y_pred3)\n",
        "cm_KNN = confusion_matrix(y_test, y_pred4)\n",
        "cm_NaiveBayes = confusion_matrix(y_test, y_pred5)"
      ],
      "metadata": {
        "id": "9Cj3v3Zvs8Fw"
      },
      "execution_count": null,
      "outputs": []
    },
    {
      "cell_type": "markdown",
      "source": [
        "## LogisticRegression"
      ],
      "metadata": {
        "id": "Flr05FpptHzR"
      }
    },
    {
      "cell_type": "code",
      "source": [
        "print(f\"Accuracy Score: {accuracy_score(y_test, y_pred1)}\")\n",
        "print(f\"Precision Score: {precision_score(y_test, y_pred1)}\")\n",
        "print(f\"Recall Score: {recall_score(y_test, y_pred1)}\")\n",
        "print(f\"F1 Score: {f1_score(y_test, y_pred1)}\")\n",
        "print(cm_LogisticRegression)"
      ],
      "metadata": {
        "colab": {
          "base_uri": "https://localhost:8080/"
        },
        "id": "GqF_Cf5VtMkq",
        "outputId": "33eca981-bbfa-4486-df61-7021d54dae2c"
      },
      "execution_count": null,
      "outputs": [
        {
          "output_type": "stream",
          "name": "stdout",
          "text": [
            "Accuracy Score: 0.7573033707865169\n",
            "Precision Score: 0.76953125\n",
            "Recall Score: 0.8008130081300813\n",
            "F1 Score: 0.7848605577689243\n",
            "[[140  59]\n",
            " [ 49 197]]\n"
          ]
        }
      ]
    },
    {
      "cell_type": "markdown",
      "source": [
        "## Decision Tree"
      ],
      "metadata": {
        "id": "tcC6Cr6UtxoB"
      }
    },
    {
      "cell_type": "code",
      "source": [
        "print(f\"Accuracy Score: {accuracy_score(y_test, y_pred2)}\")\n",
        "print(f\"Precision Score: {precision_score(y_test, y_pred2)}\")\n",
        "print(f\"Recall Score: {recall_score(y_test, y_pred2)}\")\n",
        "print(f\"F1 Score: {f1_score(y_test, y_pred2)}\")\n",
        "print(cm_DecisionTree)"
      ],
      "metadata": {
        "colab": {
          "base_uri": "https://localhost:8080/"
        },
        "id": "2IS0b1B4t5JY",
        "outputId": "b70ea9ca-52c1-4243-97da-0dfde9a3e869"
      },
      "execution_count": null,
      "outputs": [
        {
          "output_type": "stream",
          "name": "stdout",
          "text": [
            "Accuracy Score: 0.8674157303370786\n",
            "Precision Score: 0.9560975609756097\n",
            "Recall Score: 0.7967479674796748\n",
            "F1 Score: 0.8691796008869179\n",
            "[[190   9]\n",
            " [ 50 196]]\n"
          ]
        }
      ]
    },
    {
      "cell_type": "markdown",
      "source": [
        "## SVM"
      ],
      "metadata": {
        "id": "HJgdjShKuCr1"
      }
    },
    {
      "cell_type": "code",
      "source": [
        "print(f\"Accuracy Score: {accuracy_score(y_test, y_pred3)}\")\n",
        "print(f\"Precision Score: {precision_score(y_test, y_pred3)}\")\n",
        "print(f\"Recall Score: {recall_score(y_test, y_pred3)}\")\n",
        "print(f\"F1 Score: {f1_score(y_test, y_pred3)}\")\n",
        "print(cm_SupportVectorClass)"
      ],
      "metadata": {
        "colab": {
          "base_uri": "https://localhost:8080/"
        },
        "id": "DTpW97mpuJ-r",
        "outputId": "41b03c02-0e49-4dec-d78d-3abf1ad4916b"
      },
      "execution_count": null,
      "outputs": [
        {
          "output_type": "stream",
          "name": "stdout",
          "text": [
            "Accuracy Score: 0.7662921348314606\n",
            "Precision Score: 0.808695652173913\n",
            "Recall Score: 0.7560975609756098\n",
            "F1 Score: 0.7815126050420168\n",
            "[[155  44]\n",
            " [ 60 186]]\n"
          ]
        }
      ]
    },
    {
      "cell_type": "markdown",
      "source": [
        "## KNN"
      ],
      "metadata": {
        "id": "tuZqiEeyuWdZ"
      }
    },
    {
      "cell_type": "code",
      "source": [
        "print(f\"Accuracy Score: {accuracy_score(y_test, y_pred4)}\")\n",
        "print(f\"Precision Score: {precision_score(y_test, y_pred4)}\")\n",
        "print(f\"Recall Score: {recall_score(y_test, y_pred4)}\")\n",
        "print(f\"F1 Score: {f1_score(y_test, y_pred4)}\")\n",
        "print(cm_KNN)"
      ],
      "metadata": {
        "colab": {
          "base_uri": "https://localhost:8080/"
        },
        "id": "cXRlyAuKuaUG",
        "outputId": "0ded99ea-672c-421d-b550-9113ebe2721b"
      },
      "execution_count": null,
      "outputs": [
        {
          "output_type": "stream",
          "name": "stdout",
          "text": [
            "Accuracy Score: 0.8584269662921349\n",
            "Precision Score: 0.9030837004405287\n",
            "Recall Score: 0.8333333333333334\n",
            "F1 Score: 0.8668076109936576\n",
            "[[177  22]\n",
            " [ 41 205]]\n"
          ]
        }
      ]
    },
    {
      "cell_type": "markdown",
      "source": [
        "##GaussianNB"
      ],
      "metadata": {
        "id": "nZXIEmqwulPO"
      }
    },
    {
      "cell_type": "code",
      "source": [
        "print(f\"Accuracy Score: {accuracy_score(y_test, y_pred5)}\")\n",
        "print(f\"Precision Score: {precision_score(y_test, y_pred5)}\")\n",
        "print(f\"Recall Score: {recall_score(y_test, y_pred5)}\")\n",
        "print(f\"F1 Score: {f1_score(y_test, y_pred5)}\")\n",
        "print(cm_NaiveBayes)"
      ],
      "metadata": {
        "colab": {
          "base_uri": "https://localhost:8080/"
        },
        "id": "nautzz-1u0Kb",
        "outputId": "b361305d-dd28-4380-d2e4-a992bde19195"
      },
      "execution_count": null,
      "outputs": [
        {
          "output_type": "stream",
          "name": "stdout",
          "text": [
            "Accuracy Score: 0.7842696629213484\n",
            "Precision Score: 0.7697841726618705\n",
            "Recall Score: 0.8699186991869918\n",
            "F1 Score: 0.8167938931297709\n",
            "[[135  64]\n",
            " [ 32 214]]\n"
          ]
        }
      ]
    },
    {
      "cell_type": "markdown",
      "source": [
        "# Base Ensemble\n",
        "\n",
        "###**SVM + NB + KNN + LR + DT**"
      ],
      "metadata": {
        "id": "WjxNyDAdEUoO"
      }
    },
    {
      "cell_type": "code",
      "source": [
        "base_estimator=[]\n",
        "model1 = SVC(kernel = 'linear')\n",
        "base_estimator.append(('svm1', model1))\n",
        "model2 = KNeighborsClassifier(n_neighbors = 5, metric = 'minkowski', p = 2)\n",
        "base_estimator.append(('knn1', model2))\n",
        "model3 = DecisionTreeClassifier(max_depth = 3)\n",
        "base_estimator.append(('cart1', model3))\n",
        "model4 = GaussianNB()\n",
        "base_estimator.append(('nbs1', model4))\n",
        "model5 = LogisticRegression(penalty = 'l2', random_state = 0,solver='lbfgs', max_iter=1000)\n",
        "base_estimator.append(('logistic1', model5))\n",
        "\n",
        "\n",
        "base_ensemble = VotingClassifier(base_estimator)\n",
        "base_ensemble.fit(X_train, y_train)\n",
        "y_pred = base_ensemble.predict(X_test)"
      ],
      "metadata": {
        "id": "KE6QG6M_C7aL"
      },
      "execution_count": null,
      "outputs": []
    },
    {
      "cell_type": "markdown",
      "source": [
        "![image.png](data:image/png;base64,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)"
      ],
      "metadata": {
        "id": "sTJ6FpbN68b7"
      }
    },
    {
      "cell_type": "code",
      "source": [
        "print(f\"Accuracy Score: {accuracy_score(y_test, y_pred)}\")\n",
        "print(f\"Precision Score of the classifier is: {precision_score(y_test, y_pred)}\")\n",
        "print(f\"Recall Score of the classifier is: {recall_score(y_test, y_pred)}\")\n",
        "print(f\"F1 Score of the classifier is: {f1_score(y_test, y_pred)}\")\n",
        "cm_BaseEnsembler = confusion_matrix(y_test, y_pred)\n",
        "print(\"confusion matrix:\",cm_BaseEnsembler)"
      ],
      "metadata": {
        "colab": {
          "base_uri": "https://localhost:8080/"
        },
        "outputId": "eb698b74-753b-4bac-c59e-d9e2d9d094b9",
        "id": "1VQBK-nzEGUq"
      },
      "execution_count": null,
      "outputs": [
        {
          "output_type": "stream",
          "name": "stdout",
          "text": [
            "Accuracy Score: 0.8157303370786517\n",
            "Precision Score of the classifier is: 0.828\n",
            "Recall Score of the classifier is: 0.8414634146341463\n",
            "F1 Score of the classifier is: 0.8346774193548386\n",
            "confusion matrix: [[156  43]\n",
            " [ 39 207]]\n"
          ]
        }
      ]
    },
    {
      "cell_type": "markdown",
      "source": [
        "# Optimised Ensemble using greedy approach \n"
      ],
      "metadata": {
        "id": "Na2Z-VzZxa6j"
      }
    },
    {
      "cell_type": "code",
      "source": [
        "estimators = []\n"
      ],
      "metadata": {
        "id": "SkIdiyFySZap"
      },
      "execution_count": null,
      "outputs": []
    },
    {
      "cell_type": "markdown",
      "source": [
        "!!!!!!! Run only after estimators is appended !!!!!!!"
      ],
      "metadata": {
        "id": "M3OXJant3C0l"
      }
    },
    {
      "cell_type": "code",
      "source": [
        "ensemble = VotingClassifier(estimators)"
      ],
      "metadata": {
        "id": "WAXB7HwqS82U"
      },
      "execution_count": null,
      "outputs": []
    },
    {
      "cell_type": "code",
      "source": [
        "ensemble.fit(X_train, y_train)"
      ],
      "metadata": {
        "colab": {
          "base_uri": "https://localhost:8080/"
        },
        "id": "9VVyIXHWTAv3",
        "outputId": "551dfae1-698b-4cc0-d723-7bb08cbddecb"
      },
      "execution_count": null,
      "outputs": [
        {
          "output_type": "execute_result",
          "data": {
            "text/plain": [
              "VotingClassifier(estimators=[('cart1', DecisionTreeClassifier(max_depth=3))])"
            ]
          },
          "metadata": {},
          "execution_count": 28
        }
      ]
    },
    {
      "cell_type": "code",
      "source": [
        "y_pred = ensemble.predict(X_test)"
      ],
      "metadata": {
        "id": "oiyAJgrkTNPo"
      },
      "execution_count": null,
      "outputs": []
    },
    {
      "cell_type": "code",
      "source": [
        "print(f\"Accuracy Score: {accuracy_score(y_test, y_pred)}\")\n",
        "print(f\"Precision Score of the classifier is: {precision_score(y_test, y_pred)}\")\n",
        "print(f\"Recall Score of the classifier is: {recall_score(y_test, y_pred)}\")\n",
        "print(f\"F1 Score of the classifier is: {f1_score(y_test, y_pred)}\")\n",
        "cm_HybridEnsembler = confusion_matrix(y_test, y_pred)\n",
        "print(\"confusion matrix:\",cm_HybridEnsembler)"
      ],
      "metadata": {
        "id": "leoXqIeT2kg3",
        "colab": {
          "base_uri": "https://localhost:8080/"
        },
        "outputId": "5738096b-2acd-47b5-ff1c-e4b5822f046d"
      },
      "execution_count": null,
      "outputs": [
        {
          "output_type": "stream",
          "name": "stdout",
          "text": [
            "Accuracy Score: 0.8853932584269663\n",
            "Precision Score of the classifier is: 0.9452054794520548\n",
            "Recall Score of the classifier is: 0.8414634146341463\n",
            "F1 Score of the classifier is: 0.8903225806451612\n",
            "confusion matrix: [[187  12]\n",
            " [ 39 207]]\n"
          ]
        }
      ]
    },
    {
      "cell_type": "markdown",
      "source": [
        "## Iterations in which estimator is appended"
      ],
      "metadata": {
        "id": "hRTQqX6B9iWd"
      }
    },
    {
      "cell_type": "markdown",
      "source": [
        "###iteration 1"
      ],
      "metadata": {
        "id": "iUZk081wAE0c"
      }
    },
    {
      "cell_type": "code",
      "source": [
        "#1 DT\n",
        "estimators = []\n",
        "model1 = DecisionTreeClassifier(max_depth = 3)\n",
        "estimators.append(('cart1', model1))\n"
      ],
      "metadata": {
        "id": "m1AsxhgZ5uHw"
      },
      "execution_count": null,
      "outputs": []
    },
    {
      "cell_type": "code",
      "source": [
        "\n",
        "#2 DT\n",
        "estimators = []\n",
        "model1 = DecisionTreeClassifier(max_depth = 3)\n",
        "estimators.append(('cart1', model1))\n",
        "model2 = DecisionTreeClassifier(max_depth = 4)\n",
        "estimators.append(('cart2', model2))\n"
      ],
      "metadata": {
        "id": "ZZFscn7zALPT"
      },
      "execution_count": null,
      "outputs": []
    },
    {
      "cell_type": "markdown",
      "source": [
        "## 2 DT\n",
        "\n",
        "![image.png](data:image/png;base64,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)"
      ],
      "metadata": {
        "id": "HpDud7d29SDG"
      }
    },
    {
      "cell_type": "markdown",
      "source": [
        "###  Iteration 2"
      ],
      "metadata": {
        "id": "GLfO7TaXAMX6"
      }
    },
    {
      "cell_type": "code",
      "source": [
        "\n",
        "# 2 DT + 1 KNN\n",
        "estimators = []\n",
        "model1 = DecisionTreeClassifier(max_depth = 3)\n",
        "estimators.append(('cart1', model1))\n",
        "model2 = DecisionTreeClassifier(max_depth = 4)\n",
        "estimators.append(('cart2', model2))\n",
        "model3 = KNeighborsClassifier(n_neighbors = 6, metric = 'minkowski', p = 2)\n",
        "estimators.append(('knn1', model3))\n"
      ],
      "metadata": {
        "id": "rjGP65oi_xEB"
      },
      "execution_count": null,
      "outputs": []
    },
    {
      "cell_type": "markdown",
      "source": [
        "## 2 DT + 1 KNN\n",
        "![image.png](data:image/png;base64,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)"
      ],
      "metadata": {
        "id": "S4ZzPxNU9s-p"
      }
    },
    {
      "cell_type": "code",
      "source": [
        "\n",
        "\n",
        "# 2 DT + 2 KNN\n",
        "estimators = []\n",
        "model1 = DecisionTreeClassifier(max_depth = 3)\n",
        "estimators.append(('cart1', model1))\n",
        "model2 = DecisionTreeClassifier(max_depth = 4)\n",
        "estimators.append(('cart2', model2))\n",
        "model3 = KNeighborsClassifier(n_neighbors = 6, metric = 'minkowski', p = 2)\n",
        "estimators.append(('knn1', model3))\n",
        "model4 = KNeighborsClassifier(n_neighbors = 5, metric = 'minkowski', p = 2)\n",
        "estimators.append(('knn2', model4))"
      ],
      "metadata": {
        "id": "b5lyVvEZAR7q"
      },
      "execution_count": null,
      "outputs": []
    },
    {
      "cell_type": "markdown",
      "source": [
        "## 2 DT + 2 KNN (discarded)\n",
        "![image.png](data:image/png;base64,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)"
      ],
      "metadata": {
        "id": "hUXjApAL-xGr"
      }
    },
    {
      "cell_type": "markdown",
      "source": [
        "###  Iteration 3"
      ],
      "metadata": {
        "id": "2nuf3yrnAUSK"
      }
    },
    {
      "cell_type": "code",
      "source": [
        "\n",
        "# 2 DT + 1 KNN + 1 NB\n",
        "estimators = []\n",
        "model1 = DecisionTreeClassifier(max_depth = 3)\n",
        "estimators.append(('cart1', model1))\n",
        "model2 = DecisionTreeClassifier(max_depth = 4)\n",
        "estimators.append(('cart2', model2))\n",
        "model3 = KNeighborsClassifier(n_neighbors = 6, metric = 'minkowski', p = 2)\n",
        "estimators.append(('knn1', model3))\n",
        "model4 = GaussianNB()\n",
        "estimators.append(('nbs4', model4))\n",
        "\n"
      ],
      "metadata": {
        "id": "CQM45wLa_-1b"
      },
      "execution_count": null,
      "outputs": []
    },
    {
      "cell_type": "markdown",
      "source": [
        "## 2 DT + 1 KNN + 1 NB \n",
        "\n",
        "![image.png](data:image/png;base64,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)"
      ],
      "metadata": {
        "id": "z2p3sZg1_YdA"
      }
    },
    {
      "cell_type": "code",
      "source": [
        "\n",
        "# 2 DT + 1 KNN + 2 NB\n",
        "estimators = []\n",
        "model1 = DecisionTreeClassifier(max_depth = 3)\n",
        "estimators.append(('cart1', model1))\n",
        "model2 = DecisionTreeClassifier(max_depth = 4)\n",
        "estimators.append(('cart2', model2))\n",
        "model3 = KNeighborsClassifier(n_neighbors = 6, metric = 'minkowski', p = 2)\n",
        "estimators.append(('knn1', model3))\n",
        "model4 = GaussianNB()\n",
        "estimators.append(('nbs4', model4))\n",
        "model5 = GaussianNB()\n",
        "estimators.append(('nbs5', model5))\n"
      ],
      "metadata": {
        "id": "3h-MsiwEAbvq"
      },
      "execution_count": null,
      "outputs": []
    },
    {
      "cell_type": "markdown",
      "source": [
        "## 2 DT + 1 KNN + 2 NB (DISCARDED)\n",
        "![image.png](data:image/png;base64,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)"
      ],
      "metadata": {
        "id": "w2cc29ZlIuKK"
      }
    },
    {
      "cell_type": "markdown",
      "source": [
        "### Iteration 4"
      ],
      "metadata": {
        "id": "k0r-wF9cAfoS"
      }
    },
    {
      "cell_type": "code",
      "source": [
        "\n",
        "\n",
        "# 2 DT + 1 KNN + 1 LR\n",
        "estimators = []\n",
        "model1 = DecisionTreeClassifier(max_depth = 3)\n",
        "estimators.append(('cart1', model1))\n",
        "model2 = DecisionTreeClassifier(max_depth = 4)\n",
        "estimators.append(('cart2', model2))\n",
        "model3 = KNeighborsClassifier(n_neighbors = 6, metric = 'minkowski', p = 2)\n",
        "estimators.append(('knn1', model3))\n",
        "model4 = LogisticRegression(penalty = 'l2', random_state = 0,solver='lbfgs', max_iter=1000)\n",
        "estimators.append(('logistic4', model4))\n",
        "\n"
      ],
      "metadata": {
        "id": "gr__apdQ_w3Z"
      },
      "execution_count": null,
      "outputs": []
    },
    {
      "cell_type": "markdown",
      "source": [
        "## 2 DT + 1 KNN + 1 LR \n",
        "![image.png](data:image/png;base64,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)"
      ],
      "metadata": {
        "id": "IcVU97zgAsXG"
      }
    },
    {
      "cell_type": "code",
      "source": [
        "\n",
        "# 2 DT + 1 KNN + 2 LR\n",
        "estimators = []\n",
        "model1 = DecisionTreeClassifier(max_depth = 3)\n",
        "estimators.append(('cart1', model1))\n",
        "model2 = DecisionTreeClassifier(max_depth = 4)\n",
        "estimators.append(('cart2', model2))\n",
        "model3 = KNeighborsClassifier(n_neighbors = 6, metric = 'minkowski', p = 2)\n",
        "estimators.append(('knn1', model3))\n",
        "model4 = LogisticRegression(penalty = 'l2', random_state = 0,solver='lbfgs', max_iter=1000)\n",
        "estimators.append(('logistic4', model4))\n",
        "model5 = LogisticRegression(penalty = 'l2', random_state = 0,solver='lbfgs', max_iter=1000)\n",
        "estimators.append(('logistic5', model5))\n",
        "\n"
      ],
      "metadata": {
        "id": "T0J0xQKVAmhH"
      },
      "execution_count": null,
      "outputs": []
    },
    {
      "cell_type": "markdown",
      "source": [
        "## 2 DT + 1 KNN + 2 LR (DISCARDED)\n",
        "\n",
        "![image.png](data:image/png;base64,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)"
      ],
      "metadata": {
        "id": "f5TRvv35JfHN"
      }
    },
    {
      "cell_type": "markdown",
      "source": [
        "### Iteration 5"
      ],
      "metadata": {
        "id": "LSu2CUnjAnu9"
      }
    },
    {
      "cell_type": "code",
      "source": [
        "\n",
        "# 2 DT + 1 KNN + 1 SVM\n",
        "estimators = []\n",
        "model1 = DecisionTreeClassifier(max_depth = 3)\n",
        "estimators.append(('cart1', model1))\n",
        "model2 = DecisionTreeClassifier(max_depth = 4)\n",
        "estimators.append(('cart2', model2))\n",
        "model3 = KNeighborsClassifier(n_neighbors = 6, metric = 'minkowski', p = 2)\n",
        "estimators.append(('knn1', model3))\n",
        "model4 = SVC(kernel = 'poly')\n",
        "estimators.append(('svm1', model4))\n",
        "\n",
        "\n",
        "\n"
      ],
      "metadata": {
        "id": "opnksEx2_wRK"
      },
      "execution_count": null,
      "outputs": []
    },
    {
      "cell_type": "markdown",
      "source": [
        "## 2 DT + 1 KNN + 1 SVM \n",
        "![image.png](data:image/png;base64,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)"
      ],
      "metadata": {
        "id": "FRTsBUif_0Xe"
      }
    },
    {
      "cell_type": "code",
      "source": [
        "# 2 DT + 1 KNN + 2 SVM\n",
        "estimators = []\n",
        "model1 = DecisionTreeClassifier(max_depth = 3)\n",
        "estimators.append(('cart1', model1))\n",
        "model2 = DecisionTreeClassifier(max_depth = 4)\n",
        "estimators.append(('cart2', model2))\n",
        "model3 = KNeighborsClassifier(n_neighbors = 6, metric = 'minkowski', p = 2)\n",
        "estimators.append(('knn1', model3))\n",
        "model4 = SVC(kernel = 'poly')\n",
        "estimators.append(('svm1', model4))\n",
        "model5 = SVC(kernel = 'rbf')\n",
        "estimators.append(('svm3', model5))\n"
      ],
      "metadata": {
        "id": "qQ_LmT0kAuOJ"
      },
      "execution_count": null,
      "outputs": []
    },
    {
      "cell_type": "markdown",
      "source": [
        "##2 DT + 1 KNN + 2 SVM (DISCARDED)\n",
        "\n",
        "![image.png](data:image/png;base64,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)"
      ],
      "metadata": {
        "id": "fXILrCqVK1HC"
      }
    },
    {
      "cell_type": "markdown",
      "source": [
        "by Mehak Aggarwal(03104092021), Taniya Jain(06404092021)"
      ],
      "metadata": {
        "id": "m-CVYUqufCeJ"
      }
    },
    {
      "cell_type": "code",
      "source": [],
      "metadata": {
        "id": "wUiatHQF_d5J"
      },
      "execution_count": null,
      "outputs": []
    }
  ]
}